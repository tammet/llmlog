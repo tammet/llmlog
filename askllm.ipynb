{
 "cells": [
  {
   "cell_type": "code",
   "id": "fb229f02-5fe9-46f5-8dee-79c2fc0bbc28",
   "metadata": {},
   "source": [
    "from phi import prepare_phi, inference\n",
    "\n",
    "model, tokenizer = prepare_phi(trainable=False)"
   ],
   "outputs": [],
   "execution_count": null
  },
  {
   "cell_type": "code",
   "id": "1292d91c-5911-4b7d-8878-cf00c94396f9",
   "metadata": {},
   "source": [
    "from askllm import parse_result, makeprompt\n",
    "import json\n",
    "\n",
    "def call(model, tokenizer, sysprompt, prompt):\n",
    "    chat = (f\"<|im_start|>system<|im_sep|>{sysprompt}<|im_end|>\"\n",
    "            f\"<|im_start|>user<|im_sep|>{prompt}<|im_end|>\"\n",
    "            f\"<|im_start|>assistant<|im_sep|>\")\n",
    "    return inference(model, tokenizer, chat, 3000)[0]\n",
    "\n",
    "problemfile = \"test.txt\"\n",
    "problems=[]\n",
    "rowcount=0  \n",
    "with open(problemfile, \"r\") as f:\n",
    "    next(f)\n",
    "    for i, line in enumerate(f):\n",
    "        problems.append(json.loads(line.strip()))\n",
    "\n",
    "processed=0\n",
    "correct = {\n",
    "    \"horn\": {\"sat\": 0, \"unsat\": 0},\n",
    "    \"not_horn\": {\"sat\": 0, \"unsat\": 0}\n",
    "}\n",
    "for problem in problems:\n",
    "    sysprompt=None\n",
    "    prompt=makeprompt(problem)\n",
    "    result=call(model, tokenizer, sysprompt, prompt)\n",
    "    processed+=1\n",
    "\n",
    "    got = parse_result(result)\n",
    "    sat = problem[4]\n",
    "    horn = problem[3]\n",
    "    print(f\"got={got} sat={sat} horn={horn}\")\n",
    "\n",
    "    if got == sat:\n",
    "        correct[\"horn\" if horn else \"not_horn\"][\"sat\" if sat else \"unsat\"] += 1\n",
    "\n",
    "print(f\"\\nSummary: processed={processed} correct={correct}\")\n"
   ],
   "outputs": [],
   "execution_count": null
  }
 ],
 "metadata": {
  "kernelspec": {
   "display_name": "pytorch_cuda",
   "language": "python",
   "name": "pytorch_cuda"
  },
  "language_info": {
   "codemirror_mode": {
    "name": "ipython",
    "version": 3
   },
   "file_extension": ".py",
   "mimetype": "text/x-python",
   "name": "python",
   "nbconvert_exporter": "python",
   "pygments_lexer": "ipython3",
   "version": "3.11.10"
  }
 },
 "nbformat": 4,
 "nbformat_minor": 5
}
